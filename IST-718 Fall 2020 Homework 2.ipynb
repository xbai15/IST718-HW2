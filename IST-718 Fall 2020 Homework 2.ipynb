{
 "cells": [
  {
   "cell_type": "markdown",
   "metadata": {},
   "source": [
    "##### Grading Feedback Cell"
   ]
  },
  {
   "cell_type": "markdown",
   "metadata": {},
   "source": [
    "# IST 718: Big Data Analytics\n",
    "\n",
    "- Professor: Willard Williamson <wewillia@syr.edu>\n",
    "- Faculty Assistant: Vidushi Mishra <vmishr01@syr.edu>\n",
    "- Faculty Assistant: Pranav Kottoli Radhakrishna <pkottoli@syr.edu>\n",
    "## General instructions:\n",
    "\n",
    "- You are welcome to discuss the problems with your classmates but __you are not allowed to copy any part of your answers from your classmates.  Short code snippets are allowed from the internet.  Code from the class text books or class provided code can be copied in its entirety.__\n",
    "- There could be tests in some cells (i.e., `assert` and `np.testing.` statements). These tests (if present) are used to grade your answers. **However, the professor and FAs could use __additional__ test for your answer. Think about cases where your code should run even if it passess all the tests you see.**\n",
    "- Before submitting your work, remember to check for run time errors with the following procedure:\n",
    "`Kernel`$\\rightarrow$`Restart and Run All`.  All runtime errors will result in a minimum penalty of half off.\n",
    "- Data Bricks is the official class runtime environment so you should test your code on Data Bricks before submission.  If there is a runtime problem in the grading environment, we will try your code on Data Bricks before making a final grading decision.\n",
    "- All plots shall include descriptinve title and axis labels.  Plot legends shall be included where possible.  Unless stated otherwise, plots can be made using any Python plotting package.  It is understood that spark data structures must be converted to something like numpy or pandas prior to making plots.  All required mathematical operations, filtering, selection, etc., required by a homework question shall be performed in spark prior to converting to numpy or pandas.\n",
    "- Grading feedback cells are there for graders to provide feedback to students.  Don't change or remove grading feedback cells.\n",
    "- Don't add or remove files from your git repo.\n",
    "- Do not change file names in your repo.  This also means don't change the title of the ipython notebook.\n",
    "- You are free to add additional code cells around the cells marked `your code here`.\n",
    "- We reserve the right to take points off for operations that are extremely inefficient or \"heavy weight\".  This is a big data class and extremely inefficient operations make a big difference when scaling up to large data sets.  For example, the spark dataframe collect() method is a very heavy weight operation and should not be used unless it there is a real need for it.  An example where collect() might be needed is to get ready to make a plot after filtering a spark dataframe.\n",
    "- import * is not allowed because it is considered a very bad coding practice and in some cases can result in a significant delay (which slows down the grading process) in loading imports.  For example, the statement `from sympy import *` is not allowed.  You must import the specific packages that you need.\n",
    "- If you perform databricks specific operations, you MUST protect those operations in an if statement by calling the is_databricks() function provided in all homework assignments.  For example, if you use dbutils (databricks utilities), only run dbutils commands if is_databricks() returns true.  Runtime errors created in the grading environment by not protecting databricks specific commands in an if statement will result in a runtime error points deduction. \n",
    "- The graders reserve the right to deduct points for subjective things we see with your code.  For example, if we ask you to create a pandas data frame to display values from an investigation and you hard code the values, we will take points off for that.  This is only one of many different things we could find in reviewing your code.  In general, write your code like you are submitting it for a code peer review in industry.  \n",
    "- Level of effort is part of our subjective grading.  Oftentimes there is a large disparity between the level of effort between students who are trying learn, and students who are trying to do the minimum possible to check off an assignment requirement.  For example, in cases where we ask for a more open ended investigation, some students put in significant effort and some students do the minimum possible to meet requirements.  In these cases, we may take points off for students who did not put in much effort as compared to students who did put in a lot of effort.  We feel that the students who did a better job deserve a better grade.  We reserve the right to invoke level of effort grading at any time.\n",
    "- Only use spark, spark machine learning, spark data frames, RDD's, and map reduce to solve all problems unless instructed otherwise.  "
   ]
  },
  {
   "cell_type": "code",
   "execution_count": 14,
   "metadata": {
    "nbgrader": {
     "checksum": "c51f80b694da894627ba37be28c86055",
     "grade": false,
     "grade_id": "cell-b038e38b5e3072a9",
     "locked": true,
     "schema_version": 1,
     "solution": false
    }
   },
   "outputs": [],
   "source": [
    "# Do not delete or change this cell\n",
    "\n",
    "# grading import statements\n",
    "from pyspark.sql import SparkSession\n",
    "from pyspark.sql import SQLContext\n",
    "spark = SparkSession.builder.getOrCreate()\n",
    "sc = spark.sparkContext\n",
    "sqlContext = SQLContext(sc)\n",
    "import os\n",
    "\n",
    "# Define a function to determine if we are running on data bricks\n",
    "# Return true if running in the data bricks environment, false otherwise\n",
    "def is_databricks():\n",
    "    # get the databricks runtime version\n",
    "    db_env = os.getenv(\"DATABRICKS_RUNTIME_VERSION\")\n",
    "    \n",
    "    # if running on data bricks\n",
    "    if db_env != None:\n",
    "        return True\n",
    "    else:\n",
    "        return False\n",
    "\n",
    "# Define a function to read the data file.  The full path data file name is constructed\n",
    "# by checking runtime environment variables to determine if the runtime environment is \n",
    "# databricks, or a student's personal computer.  The full path file name is then\n",
    "# constructed based on the runtime env.\n",
    "# \n",
    "# Params\n",
    "#   data_file_name: The base name of the data file to load\n",
    "# \n",
    "# Returns the full path file name based on the runtime env\n",
    "#\n",
    "# Correct Usage Example (pass ONLY the full file name):\n",
    "#   file_name_to_load = get_training_filename(\"sms_spam.csv\") # correct - pass ONLY the full file name  \n",
    "#   \n",
    "# Incorrect Usage Example\n",
    "#   file_name_to_load = get_training_filename(\"/sms_spam.csv\") # incorrect - pass ONLY the full file name\n",
    "#   file_name_to_load = get_training_filename(\"sms_spam.csv/\") # incorrect - pass ONLY the full file name\n",
    "#   file_name_to_load = get_training_filename(\"c:/users/will/data/sms_spam.csv\") incorrect -pass ONLY the full file name\n",
    "def get_training_filename(data_file_name):    \n",
    "    # if running on data bricks\n",
    "    if is_databricks():\n",
    "        # build the full path file name assuming data brick env\n",
    "        full_path_name = \"dbfs:/FileStore/tables/%s\" % data_file_name\n",
    "    # else the data is assumed to be in the same dir as this notebook\n",
    "    else:\n",
    "        # Assume the student is running on their own computer and load the data\n",
    "        # file from the same dir as this notebook\n",
    "        full_path_name = data_file_name\n",
    "    \n",
    "    # return the full path file name to the caller\n",
    "    return full_path_name"
   ]
  },
  {
   "cell_type": "markdown",
   "metadata": {},
   "source": [
    "The cell below reads the datafiles needed for part 2 of this assignment into spark dataframes."
   ]
  },
  {
   "cell_type": "code",
   "execution_count": 34,
   "metadata": {
    "scrolled": false
   },
   "outputs": [
    {
     "data": {
      "text/html": [
       "<div>\n",
       "<style scoped>\n",
       "    .dataframe tbody tr th:only-of-type {\n",
       "        vertical-align: middle;\n",
       "    }\n",
       "\n",
       "    .dataframe tbody tr th {\n",
       "        vertical-align: top;\n",
       "    }\n",
       "\n",
       "    .dataframe thead th {\n",
       "        text-align: right;\n",
       "    }\n",
       "</style>\n",
       "<table border=\"1\" class=\"dataframe\">\n",
       "  <thead>\n",
       "    <tr style=\"text-align: right;\">\n",
       "      <th></th>\n",
       "      <th>Total population</th>\n",
       "      <th>1800</th>\n",
       "      <th>1810</th>\n",
       "      <th>1820</th>\n",
       "      <th>1830</th>\n",
       "      <th>1840</th>\n",
       "      <th>1850</th>\n",
       "      <th>1860</th>\n",
       "      <th>1870</th>\n",
       "      <th>1880</th>\n",
       "      <th>...</th>\n",
       "      <th>2006</th>\n",
       "      <th>2007</th>\n",
       "      <th>2008</th>\n",
       "      <th>2009</th>\n",
       "      <th>2010</th>\n",
       "      <th>2011</th>\n",
       "      <th>2012</th>\n",
       "      <th>2013</th>\n",
       "      <th>2014</th>\n",
       "      <th>2015</th>\n",
       "    </tr>\n",
       "  </thead>\n",
       "  <tbody>\n",
       "    <tr>\n",
       "      <th>0</th>\n",
       "      <td>Abkhazia</td>\n",
       "      <td>None</td>\n",
       "      <td>None</td>\n",
       "      <td>None</td>\n",
       "      <td>None</td>\n",
       "      <td>None</td>\n",
       "      <td>None</td>\n",
       "      <td>None</td>\n",
       "      <td>None</td>\n",
       "      <td>None</td>\n",
       "      <td>...</td>\n",
       "      <td>None</td>\n",
       "      <td>None</td>\n",
       "      <td>None</td>\n",
       "      <td>None</td>\n",
       "      <td>None</td>\n",
       "      <td>None</td>\n",
       "      <td>None</td>\n",
       "      <td>None</td>\n",
       "      <td>None</td>\n",
       "      <td>None</td>\n",
       "    </tr>\n",
       "    <tr>\n",
       "      <th>1</th>\n",
       "      <td>Afghanistan</td>\n",
       "      <td>3280000</td>\n",
       "      <td>3280000</td>\n",
       "      <td>3323519</td>\n",
       "      <td>3448982</td>\n",
       "      <td>3625022</td>\n",
       "      <td>3810047</td>\n",
       "      <td>3973968</td>\n",
       "      <td>4169690</td>\n",
       "      <td>4419695</td>\n",
       "      <td>...</td>\n",
       "      <td>25183615</td>\n",
       "      <td>25877544</td>\n",
       "      <td>26528741</td>\n",
       "      <td>27207291</td>\n",
       "      <td>27962207</td>\n",
       "      <td>28809167</td>\n",
       "      <td>29726803</td>\n",
       "      <td>30682500</td>\n",
       "      <td>31627506</td>\n",
       "      <td>32526562</td>\n",
       "    </tr>\n",
       "    <tr>\n",
       "      <th>2</th>\n",
       "      <td>Akrotiri and Dhekelia</td>\n",
       "      <td>None</td>\n",
       "      <td>None</td>\n",
       "      <td>None</td>\n",
       "      <td>None</td>\n",
       "      <td>None</td>\n",
       "      <td>None</td>\n",
       "      <td>None</td>\n",
       "      <td>None</td>\n",
       "      <td>None</td>\n",
       "      <td>...</td>\n",
       "      <td>15700</td>\n",
       "      <td>15700</td>\n",
       "      <td>15700</td>\n",
       "      <td>None</td>\n",
       "      <td>None</td>\n",
       "      <td>None</td>\n",
       "      <td>None</td>\n",
       "      <td>None</td>\n",
       "      <td>None</td>\n",
       "      <td>None</td>\n",
       "    </tr>\n",
       "    <tr>\n",
       "      <th>3</th>\n",
       "      <td>Albania</td>\n",
       "      <td>410,445</td>\n",
       "      <td>423591</td>\n",
       "      <td>438671</td>\n",
       "      <td>457234</td>\n",
       "      <td>478227</td>\n",
       "      <td>506889</td>\n",
       "      <td>552800</td>\n",
       "      <td>610036</td>\n",
       "      <td>672544</td>\n",
       "      <td>...</td>\n",
       "      <td>3050741</td>\n",
       "      <td>3010849</td>\n",
       "      <td>2968026</td>\n",
       "      <td>2929886</td>\n",
       "      <td>2901883</td>\n",
       "      <td>2886010</td>\n",
       "      <td>2880667</td>\n",
       "      <td>2883281</td>\n",
       "      <td>2889676</td>\n",
       "      <td>2896679</td>\n",
       "    </tr>\n",
       "    <tr>\n",
       "      <th>4</th>\n",
       "      <td>Algeria</td>\n",
       "      <td>2,503,218</td>\n",
       "      <td>2595056</td>\n",
       "      <td>2713079</td>\n",
       "      <td>2880355</td>\n",
       "      <td>3082721</td>\n",
       "      <td>3299305</td>\n",
       "      <td>3536468</td>\n",
       "      <td>3811028</td>\n",
       "      <td>4143163</td>\n",
       "      <td>...</td>\n",
       "      <td>33749328</td>\n",
       "      <td>34261971</td>\n",
       "      <td>34811059</td>\n",
       "      <td>35401790</td>\n",
       "      <td>36036159</td>\n",
       "      <td>36717132</td>\n",
       "      <td>37439427</td>\n",
       "      <td>38186135</td>\n",
       "      <td>38934334</td>\n",
       "      <td>39666519</td>\n",
       "    </tr>\n",
       "  </tbody>\n",
       "</table>\n",
       "<p>5 rows × 82 columns</p>\n",
       "</div>"
      ],
      "text/plain": [
       "        Total population       1800     1810     1820     1830     1840  \\\n",
       "0               Abkhazia       None     None     None     None     None   \n",
       "1            Afghanistan    3280000  3280000  3323519  3448982  3625022   \n",
       "2  Akrotiri and Dhekelia       None     None     None     None     None   \n",
       "3                Albania    410,445   423591   438671   457234   478227   \n",
       "4                Algeria  2,503,218  2595056  2713079  2880355  3082721   \n",
       "\n",
       "      1850     1860     1870     1880  ...      2006      2007      2008  \\\n",
       "0     None     None     None     None  ...      None      None      None   \n",
       "1  3810047  3973968  4169690  4419695  ...  25183615  25877544  26528741   \n",
       "2     None     None     None     None  ...     15700     15700     15700   \n",
       "3   506889   552800   610036   672544  ...   3050741   3010849   2968026   \n",
       "4  3299305  3536468  3811028  4143163  ...  33749328  34261971  34811059   \n",
       "\n",
       "       2009      2010      2011      2012      2013      2014      2015  \n",
       "0      None      None      None      None      None      None      None  \n",
       "1  27207291  27962207  28809167  29726803  30682500  31627506  32526562  \n",
       "2      None      None      None      None      None      None      None  \n",
       "3   2929886   2901883   2886010   2880667   2883281   2889676   2896679  \n",
       "4  35401790  36036159  36717132  37439427  38186135  38934334  39666519  \n",
       "\n",
       "[5 rows x 82 columns]"
      ]
     },
     "metadata": {},
     "output_type": "display_data"
    }
   ],
   "source": [
    "# do not change this cell\n",
    "pop_df = spark.read.format(\"csv\").option(\"header\", \"true\").load(get_training_filename(\"indicator_gapminder_population.csv\"))\n",
    "mort_df = spark.read.format(\"csv\").option(\"header\", \"true\").load(get_training_filename('indicator_gapminder_under5mortality.csv'))\n",
    "life_exp_df = spark.read.format(\"csv\").option(\"header\", \"true\").load(get_training_filename('indicator_life_expectancy_at_birth.csv'))\n",
    "fert_df = spark.read.format(\"csv\").option(\"header\", \"true\").load(get_training_filename('indicator_undata_total_fertility.csv'))\n",
    "display(pop_df.toPandas().head())"
   ]
  },
  {
   "cell_type": "code",
   "execution_count": 35,
   "metadata": {},
   "outputs": [
    {
     "data": {
      "text/html": [
       "<div>\n",
       "<style scoped>\n",
       "    .dataframe tbody tr th:only-of-type {\n",
       "        vertical-align: middle;\n",
       "    }\n",
       "\n",
       "    .dataframe tbody tr th {\n",
       "        vertical-align: top;\n",
       "    }\n",
       "\n",
       "    .dataframe thead th {\n",
       "        text-align: right;\n",
       "    }\n",
       "</style>\n",
       "<table border=\"1\" class=\"dataframe\">\n",
       "  <thead>\n",
       "    <tr style=\"text-align: right;\">\n",
       "      <th></th>\n",
       "      <th>Under five mortality</th>\n",
       "      <th>1800</th>\n",
       "      <th>1801</th>\n",
       "      <th>1802</th>\n",
       "      <th>1803</th>\n",
       "      <th>1804</th>\n",
       "      <th>1805</th>\n",
       "      <th>1806</th>\n",
       "      <th>1807</th>\n",
       "      <th>1808</th>\n",
       "      <th>...</th>\n",
       "      <th>2006</th>\n",
       "      <th>2007</th>\n",
       "      <th>2008</th>\n",
       "      <th>2009</th>\n",
       "      <th>2010</th>\n",
       "      <th>2011</th>\n",
       "      <th>2012</th>\n",
       "      <th>2013</th>\n",
       "      <th>2014</th>\n",
       "      <th>2015</th>\n",
       "    </tr>\n",
       "  </thead>\n",
       "  <tbody>\n",
       "    <tr>\n",
       "      <th>0</th>\n",
       "      <td>Abkhazia</td>\n",
       "      <td>None</td>\n",
       "      <td>None</td>\n",
       "      <td>None</td>\n",
       "      <td>None</td>\n",
       "      <td>None</td>\n",
       "      <td>None</td>\n",
       "      <td>None</td>\n",
       "      <td>None</td>\n",
       "      <td>None</td>\n",
       "      <td>...</td>\n",
       "      <td>None</td>\n",
       "      <td>None</td>\n",
       "      <td>None</td>\n",
       "      <td>None</td>\n",
       "      <td>None</td>\n",
       "      <td>None</td>\n",
       "      <td>None</td>\n",
       "      <td>None</td>\n",
       "      <td>None</td>\n",
       "      <td>None</td>\n",
       "    </tr>\n",
       "    <tr>\n",
       "      <th>1</th>\n",
       "      <td>Afghanistan</td>\n",
       "      <td>468.58</td>\n",
       "      <td>468.58</td>\n",
       "      <td>468.58</td>\n",
       "      <td>468.58</td>\n",
       "      <td>468.58</td>\n",
       "      <td>468.58</td>\n",
       "      <td>469.98</td>\n",
       "      <td>469.98</td>\n",
       "      <td>469.98</td>\n",
       "      <td>...</td>\n",
       "      <td>116.3</td>\n",
       "      <td>113.2</td>\n",
       "      <td>110.4</td>\n",
       "      <td>107.6</td>\n",
       "      <td>105</td>\n",
       "      <td>102.3</td>\n",
       "      <td>99.5</td>\n",
       "      <td>96.7</td>\n",
       "      <td>93.9</td>\n",
       "      <td>91.1</td>\n",
       "    </tr>\n",
       "    <tr>\n",
       "      <th>2</th>\n",
       "      <td>Akrotiri and Dhekelia</td>\n",
       "      <td>None</td>\n",
       "      <td>None</td>\n",
       "      <td>None</td>\n",
       "      <td>None</td>\n",
       "      <td>None</td>\n",
       "      <td>None</td>\n",
       "      <td>None</td>\n",
       "      <td>None</td>\n",
       "      <td>None</td>\n",
       "      <td>...</td>\n",
       "      <td>None</td>\n",
       "      <td>None</td>\n",
       "      <td>None</td>\n",
       "      <td>None</td>\n",
       "      <td>None</td>\n",
       "      <td>None</td>\n",
       "      <td>None</td>\n",
       "      <td>None</td>\n",
       "      <td>None</td>\n",
       "      <td>None</td>\n",
       "    </tr>\n",
       "    <tr>\n",
       "      <th>3</th>\n",
       "      <td>Albania</td>\n",
       "      <td>375.2</td>\n",
       "      <td>375.2</td>\n",
       "      <td>375.2</td>\n",
       "      <td>375.2</td>\n",
       "      <td>375.2</td>\n",
       "      <td>375.2</td>\n",
       "      <td>375.2</td>\n",
       "      <td>375.2</td>\n",
       "      <td>375.2</td>\n",
       "      <td>...</td>\n",
       "      <td>19.5</td>\n",
       "      <td>18.7</td>\n",
       "      <td>17.9</td>\n",
       "      <td>17.3</td>\n",
       "      <td>16.6</td>\n",
       "      <td>16</td>\n",
       "      <td>15.5</td>\n",
       "      <td>14.9</td>\n",
       "      <td>14.4</td>\n",
       "      <td>14</td>\n",
       "    </tr>\n",
       "    <tr>\n",
       "      <th>4</th>\n",
       "      <td>Algeria</td>\n",
       "      <td>460.21</td>\n",
       "      <td>460.21</td>\n",
       "      <td>460.21</td>\n",
       "      <td>460.21</td>\n",
       "      <td>460.21</td>\n",
       "      <td>460.21</td>\n",
       "      <td>460.21</td>\n",
       "      <td>460.21</td>\n",
       "      <td>460.21</td>\n",
       "      <td>...</td>\n",
       "      <td>32.1</td>\n",
       "      <td>30.7</td>\n",
       "      <td>29.5</td>\n",
       "      <td>28.4</td>\n",
       "      <td>27.4</td>\n",
       "      <td>26.6</td>\n",
       "      <td>25.8</td>\n",
       "      <td>25.2</td>\n",
       "      <td>24.6</td>\n",
       "      <td>24</td>\n",
       "    </tr>\n",
       "  </tbody>\n",
       "</table>\n",
       "<p>5 rows × 217 columns</p>\n",
       "</div>"
      ],
      "text/plain": [
       "    Under five mortality    1800    1801    1802    1803    1804    1805  \\\n",
       "0               Abkhazia    None    None    None    None    None    None   \n",
       "1            Afghanistan  468.58  468.58  468.58  468.58  468.58  468.58   \n",
       "2  Akrotiri and Dhekelia    None    None    None    None    None    None   \n",
       "3                Albania   375.2   375.2   375.2   375.2   375.2   375.2   \n",
       "4                Algeria  460.21  460.21  460.21  460.21  460.21  460.21   \n",
       "\n",
       "     1806    1807    1808  ...   2006   2007   2008   2009  2010   2011  2012  \\\n",
       "0    None    None    None  ...   None   None   None   None  None   None  None   \n",
       "1  469.98  469.98  469.98  ...  116.3  113.2  110.4  107.6   105  102.3  99.5   \n",
       "2    None    None    None  ...   None   None   None   None  None   None  None   \n",
       "3   375.2   375.2   375.2  ...   19.5   18.7   17.9   17.3  16.6     16  15.5   \n",
       "4  460.21  460.21  460.21  ...   32.1   30.7   29.5   28.4  27.4   26.6  25.8   \n",
       "\n",
       "   2013  2014  2015  \n",
       "0  None  None  None  \n",
       "1  96.7  93.9  91.1  \n",
       "2  None  None  None  \n",
       "3  14.9  14.4    14  \n",
       "4  25.2  24.6    24  \n",
       "\n",
       "[5 rows x 217 columns]"
      ]
     },
     "metadata": {},
     "output_type": "display_data"
    }
   ],
   "source": [
    "display(mort_df.toPandas().head())"
   ]
  },
  {
   "cell_type": "code",
   "execution_count": 36,
   "metadata": {},
   "outputs": [
    {
     "data": {
      "text/html": [
       "<div>\n",
       "<style scoped>\n",
       "    .dataframe tbody tr th:only-of-type {\n",
       "        vertical-align: middle;\n",
       "    }\n",
       "\n",
       "    .dataframe tbody tr th {\n",
       "        vertical-align: top;\n",
       "    }\n",
       "\n",
       "    .dataframe thead th {\n",
       "        text-align: right;\n",
       "    }\n",
       "</style>\n",
       "<table border=\"1\" class=\"dataframe\">\n",
       "  <thead>\n",
       "    <tr style=\"text-align: right;\">\n",
       "      <th></th>\n",
       "      <th>Life expectancy with projections. Yellow is IHME</th>\n",
       "      <th>1800</th>\n",
       "      <th>1801</th>\n",
       "      <th>1802</th>\n",
       "      <th>1803</th>\n",
       "      <th>1804</th>\n",
       "      <th>1805</th>\n",
       "      <th>1806</th>\n",
       "      <th>1807</th>\n",
       "      <th>1808</th>\n",
       "      <th>...</th>\n",
       "      <th>2006</th>\n",
       "      <th>2007</th>\n",
       "      <th>2008</th>\n",
       "      <th>2009</th>\n",
       "      <th>2010</th>\n",
       "      <th>2011</th>\n",
       "      <th>2012</th>\n",
       "      <th>2013</th>\n",
       "      <th>2014</th>\n",
       "      <th>2015</th>\n",
       "    </tr>\n",
       "  </thead>\n",
       "  <tbody>\n",
       "    <tr>\n",
       "      <th>0</th>\n",
       "      <td>Abkhazia</td>\n",
       "      <td>None</td>\n",
       "      <td>None</td>\n",
       "      <td>None</td>\n",
       "      <td>None</td>\n",
       "      <td>None</td>\n",
       "      <td>None</td>\n",
       "      <td>None</td>\n",
       "      <td>None</td>\n",
       "      <td>None</td>\n",
       "      <td>...</td>\n",
       "      <td>None</td>\n",
       "      <td>None</td>\n",
       "      <td>None</td>\n",
       "      <td>None</td>\n",
       "      <td>None</td>\n",
       "      <td>None</td>\n",
       "      <td>None</td>\n",
       "      <td>None</td>\n",
       "      <td>None</td>\n",
       "      <td>None</td>\n",
       "    </tr>\n",
       "    <tr>\n",
       "      <th>1</th>\n",
       "      <td>Afghanistan</td>\n",
       "      <td>28.211</td>\n",
       "      <td>28.20075333</td>\n",
       "      <td>28.19050667</td>\n",
       "      <td>28.18026</td>\n",
       "      <td>28.17001333</td>\n",
       "      <td>28.15976667</td>\n",
       "      <td>28.14952</td>\n",
       "      <td>28.13927333</td>\n",
       "      <td>28.12902667</td>\n",
       "      <td>...</td>\n",
       "      <td>53.2</td>\n",
       "      <td>53.6</td>\n",
       "      <td>54</td>\n",
       "      <td>54.5</td>\n",
       "      <td>54.8</td>\n",
       "      <td>55.2</td>\n",
       "      <td>55.5</td>\n",
       "      <td>56.2</td>\n",
       "      <td>56.91</td>\n",
       "      <td>57.63</td>\n",
       "    </tr>\n",
       "    <tr>\n",
       "      <th>2</th>\n",
       "      <td>Akrotiri and Dhekelia</td>\n",
       "      <td>None</td>\n",
       "      <td>None</td>\n",
       "      <td>None</td>\n",
       "      <td>None</td>\n",
       "      <td>None</td>\n",
       "      <td>None</td>\n",
       "      <td>None</td>\n",
       "      <td>None</td>\n",
       "      <td>None</td>\n",
       "      <td>...</td>\n",
       "      <td>None</td>\n",
       "      <td>None</td>\n",
       "      <td>None</td>\n",
       "      <td>None</td>\n",
       "      <td>None</td>\n",
       "      <td>None</td>\n",
       "      <td>None</td>\n",
       "      <td>None</td>\n",
       "      <td>None</td>\n",
       "      <td>None</td>\n",
       "    </tr>\n",
       "    <tr>\n",
       "      <th>3</th>\n",
       "      <td>Albania</td>\n",
       "      <td>35.4</td>\n",
       "      <td>35.4</td>\n",
       "      <td>35.4</td>\n",
       "      <td>35.4</td>\n",
       "      <td>35.4</td>\n",
       "      <td>35.4</td>\n",
       "      <td>35.4</td>\n",
       "      <td>35.4</td>\n",
       "      <td>35.4</td>\n",
       "      <td>...</td>\n",
       "      <td>74.5</td>\n",
       "      <td>74.7</td>\n",
       "      <td>74.9</td>\n",
       "      <td>75</td>\n",
       "      <td>75.2</td>\n",
       "      <td>75.5</td>\n",
       "      <td>75.7</td>\n",
       "      <td>75.8</td>\n",
       "      <td>75.9</td>\n",
       "      <td>76</td>\n",
       "    </tr>\n",
       "    <tr>\n",
       "      <th>4</th>\n",
       "      <td>Algeria</td>\n",
       "      <td>28.8224</td>\n",
       "      <td>28.8224</td>\n",
       "      <td>28.8224</td>\n",
       "      <td>28.8224</td>\n",
       "      <td>28.8224</td>\n",
       "      <td>28.8224</td>\n",
       "      <td>28.8224</td>\n",
       "      <td>28.8224</td>\n",
       "      <td>28.8224</td>\n",
       "      <td>...</td>\n",
       "      <td>74.8</td>\n",
       "      <td>75</td>\n",
       "      <td>75.3</td>\n",
       "      <td>75.6</td>\n",
       "      <td>75.9</td>\n",
       "      <td>76.1</td>\n",
       "      <td>76.2</td>\n",
       "      <td>76.3</td>\n",
       "      <td>76.4</td>\n",
       "      <td>76.5</td>\n",
       "    </tr>\n",
       "  </tbody>\n",
       "</table>\n",
       "<p>5 rows × 217 columns</p>\n",
       "</div>"
      ],
      "text/plain": [
       "  Life expectancy with projections. Yellow is IHME     1800         1801  \\\n",
       "0                                         Abkhazia     None         None   \n",
       "1                                      Afghanistan   28.211  28.20075333   \n",
       "2                            Akrotiri and Dhekelia     None         None   \n",
       "3                                          Albania     35.4         35.4   \n",
       "4                                          Algeria  28.8224      28.8224   \n",
       "\n",
       "          1802      1803         1804         1805      1806         1807  \\\n",
       "0         None      None         None         None      None         None   \n",
       "1  28.19050667  28.18026  28.17001333  28.15976667  28.14952  28.13927333   \n",
       "2         None      None         None         None      None         None   \n",
       "3         35.4      35.4         35.4         35.4      35.4         35.4   \n",
       "4      28.8224   28.8224      28.8224      28.8224   28.8224      28.8224   \n",
       "\n",
       "          1808  ...  2006  2007  2008  2009  2010  2011  2012  2013   2014  \\\n",
       "0         None  ...  None  None  None  None  None  None  None  None   None   \n",
       "1  28.12902667  ...  53.2  53.6    54  54.5  54.8  55.2  55.5  56.2  56.91   \n",
       "2         None  ...  None  None  None  None  None  None  None  None   None   \n",
       "3         35.4  ...  74.5  74.7  74.9    75  75.2  75.5  75.7  75.8   75.9   \n",
       "4      28.8224  ...  74.8    75  75.3  75.6  75.9  76.1  76.2  76.3   76.4   \n",
       "\n",
       "    2015  \n",
       "0   None  \n",
       "1  57.63  \n",
       "2   None  \n",
       "3     76  \n",
       "4   76.5  \n",
       "\n",
       "[5 rows x 217 columns]"
      ]
     },
     "metadata": {},
     "output_type": "display_data"
    }
   ],
   "source": [
    "display(life_exp_df.toPandas().head())"
   ]
  },
  {
   "cell_type": "code",
   "execution_count": 37,
   "metadata": {},
   "outputs": [
    {
     "data": {
      "text/html": [
       "<div>\n",
       "<style scoped>\n",
       "    .dataframe tbody tr th:only-of-type {\n",
       "        vertical-align: middle;\n",
       "    }\n",
       "\n",
       "    .dataframe tbody tr th {\n",
       "        vertical-align: top;\n",
       "    }\n",
       "\n",
       "    .dataframe thead th {\n",
       "        text-align: right;\n",
       "    }\n",
       "</style>\n",
       "<table border=\"1\" class=\"dataframe\">\n",
       "  <thead>\n",
       "    <tr style=\"text-align: right;\">\n",
       "      <th></th>\n",
       "      <th>Total fertility rate</th>\n",
       "      <th>1800</th>\n",
       "      <th>1801</th>\n",
       "      <th>1802</th>\n",
       "      <th>1803</th>\n",
       "      <th>1804</th>\n",
       "      <th>1805</th>\n",
       "      <th>1806</th>\n",
       "      <th>1807</th>\n",
       "      <th>1808</th>\n",
       "      <th>...</th>\n",
       "      <th>2006</th>\n",
       "      <th>2007</th>\n",
       "      <th>2008</th>\n",
       "      <th>2009</th>\n",
       "      <th>2010</th>\n",
       "      <th>2011</th>\n",
       "      <th>2012</th>\n",
       "      <th>2013</th>\n",
       "      <th>2014</th>\n",
       "      <th>2015</th>\n",
       "    </tr>\n",
       "  </thead>\n",
       "  <tbody>\n",
       "    <tr>\n",
       "      <th>0</th>\n",
       "      <td>Abkhazia</td>\n",
       "      <td>None</td>\n",
       "      <td>None</td>\n",
       "      <td>None</td>\n",
       "      <td>None</td>\n",
       "      <td>None</td>\n",
       "      <td>None</td>\n",
       "      <td>None</td>\n",
       "      <td>None</td>\n",
       "      <td>None</td>\n",
       "      <td>...</td>\n",
       "      <td>None</td>\n",
       "      <td>None</td>\n",
       "      <td>None</td>\n",
       "      <td>None</td>\n",
       "      <td>None</td>\n",
       "      <td>None</td>\n",
       "      <td>None</td>\n",
       "      <td>None</td>\n",
       "      <td>None</td>\n",
       "      <td>None</td>\n",
       "    </tr>\n",
       "    <tr>\n",
       "      <th>1</th>\n",
       "      <td>Afghanistan</td>\n",
       "      <td>7</td>\n",
       "      <td>7</td>\n",
       "      <td>7</td>\n",
       "      <td>7</td>\n",
       "      <td>7</td>\n",
       "      <td>7</td>\n",
       "      <td>7</td>\n",
       "      <td>7</td>\n",
       "      <td>7</td>\n",
       "      <td>...</td>\n",
       "      <td>6.7</td>\n",
       "      <td>6.46</td>\n",
       "      <td>6.2</td>\n",
       "      <td>5.93</td>\n",
       "      <td>5.66</td>\n",
       "      <td>5.4</td>\n",
       "      <td>5.14</td>\n",
       "      <td>4.9</td>\n",
       "      <td>4.68</td>\n",
       "      <td>4.47</td>\n",
       "    </tr>\n",
       "    <tr>\n",
       "      <th>2</th>\n",
       "      <td>Akrotiri and Dhekelia</td>\n",
       "      <td>None</td>\n",
       "      <td>None</td>\n",
       "      <td>None</td>\n",
       "      <td>None</td>\n",
       "      <td>None</td>\n",
       "      <td>None</td>\n",
       "      <td>None</td>\n",
       "      <td>None</td>\n",
       "      <td>None</td>\n",
       "      <td>...</td>\n",
       "      <td>None</td>\n",
       "      <td>None</td>\n",
       "      <td>None</td>\n",
       "      <td>None</td>\n",
       "      <td>None</td>\n",
       "      <td>None</td>\n",
       "      <td>None</td>\n",
       "      <td>None</td>\n",
       "      <td>None</td>\n",
       "      <td>None</td>\n",
       "    </tr>\n",
       "    <tr>\n",
       "      <th>3</th>\n",
       "      <td>Albania</td>\n",
       "      <td>4.6</td>\n",
       "      <td>4.6</td>\n",
       "      <td>4.6</td>\n",
       "      <td>4.6</td>\n",
       "      <td>4.6</td>\n",
       "      <td>4.6</td>\n",
       "      <td>4.6</td>\n",
       "      <td>4.6</td>\n",
       "      <td>4.6</td>\n",
       "      <td>...</td>\n",
       "      <td>1.85</td>\n",
       "      <td>1.8</td>\n",
       "      <td>1.76</td>\n",
       "      <td>1.74</td>\n",
       "      <td>1.74</td>\n",
       "      <td>1.75</td>\n",
       "      <td>1.76</td>\n",
       "      <td>1.77</td>\n",
       "      <td>1.78</td>\n",
       "      <td>1.78</td>\n",
       "    </tr>\n",
       "    <tr>\n",
       "      <th>4</th>\n",
       "      <td>Algeria</td>\n",
       "      <td>6.99</td>\n",
       "      <td>6.99</td>\n",
       "      <td>6.99</td>\n",
       "      <td>6.99</td>\n",
       "      <td>6.99</td>\n",
       "      <td>6.99</td>\n",
       "      <td>6.99</td>\n",
       "      <td>6.99</td>\n",
       "      <td>6.99</td>\n",
       "      <td>...</td>\n",
       "      <td>2.58</td>\n",
       "      <td>2.66</td>\n",
       "      <td>2.73</td>\n",
       "      <td>2.78</td>\n",
       "      <td>2.82</td>\n",
       "      <td>2.83</td>\n",
       "      <td>2.82</td>\n",
       "      <td>2.8</td>\n",
       "      <td>2.76</td>\n",
       "      <td>2.71</td>\n",
       "    </tr>\n",
       "  </tbody>\n",
       "</table>\n",
       "<p>5 rows × 217 columns</p>\n",
       "</div>"
      ],
      "text/plain": [
       "    Total fertility rate  1800  1801  1802  1803  1804  1805  1806  1807  \\\n",
       "0               Abkhazia  None  None  None  None  None  None  None  None   \n",
       "1            Afghanistan     7     7     7     7     7     7     7     7   \n",
       "2  Akrotiri and Dhekelia  None  None  None  None  None  None  None  None   \n",
       "3                Albania   4.6   4.6   4.6   4.6   4.6   4.6   4.6   4.6   \n",
       "4                Algeria  6.99  6.99  6.99  6.99  6.99  6.99  6.99  6.99   \n",
       "\n",
       "   1808  ...  2006  2007  2008  2009  2010  2011  2012  2013  2014  2015  \n",
       "0  None  ...  None  None  None  None  None  None  None  None  None  None  \n",
       "1     7  ...   6.7  6.46   6.2  5.93  5.66   5.4  5.14   4.9  4.68  4.47  \n",
       "2  None  ...  None  None  None  None  None  None  None  None  None  None  \n",
       "3   4.6  ...  1.85   1.8  1.76  1.74  1.74  1.75  1.76  1.77  1.78  1.78  \n",
       "4  6.99  ...  2.58  2.66  2.73  2.78  2.82  2.83  2.82   2.8  2.76  2.71  \n",
       "\n",
       "[5 rows x 217 columns]"
      ]
     },
     "metadata": {},
     "output_type": "display_data"
    }
   ],
   "source": [
    "display(fert_df.toPandas().head())"
   ]
  },
  {
   "cell_type": "markdown",
   "metadata": {},
   "source": [
    "Note: Starting with this homework and moving forward, students are expected to use spark as opposed to numpy or pandas unless directed otherwise.  This note will not be repeated in the future."
   ]
  },
  {
   "cell_type": "markdown",
   "metadata": {},
   "source": [
    "# Part 1: Map / Reduce\n",
    "Part 1 uses the central limit theorem to provide you with an opportunity to practice using the map / reduce programming paradigm."
   ]
  },
  {
   "cell_type": "markdown",
   "metadata": {},
   "source": [
    "# Question 1: Central Limit Theorem Simulation (10 pts)\n",
    "Create a single dimensional pyspark RDD named bernoulli_rdd that contains 10,000 Bernoulli probability distribution data points consisting of integer 0 or 1.  P(0) = P(1) = 0.5.  Use only pyspark RDDs to complete this question.  Create a histogram of the RDD to show that it follows the Bernoulli distribution."
   ]
  },
  {
   "cell_type": "code",
   "execution_count": 16,
   "metadata": {},
   "outputs": [],
   "source": [
    "# your code here\n"
   ]
  },
  {
   "cell_type": "markdown",
   "metadata": {},
   "source": [
    "##### Grading Feedback Cell"
   ]
  },
  {
   "cell_type": "markdown",
   "metadata": {},
   "source": [
    "# Question 2: Sample the Bernoulli distribution using CLT (10 pts)\n",
    "Using principals from CLT theory, create a new 2 dimensional RDD named bernoulli_sample_rdd that contains sample data from bernoulli_rdd.  The shape of bernoulli_sample_rdd shall be num_obs_per_sample X num_samples.  Print the shape of bernoulli_sample_rdd."
   ]
  },
  {
   "cell_type": "code",
   "execution_count": 17,
   "metadata": {},
   "outputs": [],
   "source": [
    "# your code here\n"
   ]
  },
  {
   "cell_type": "markdown",
   "metadata": {},
   "source": [
    "##### Grading Feedback Cell"
   ]
  },
  {
   "cell_type": "markdown",
   "metadata": {},
   "source": [
    "# Question 3: Create Sampling Distribution (20 pts)\n",
    "Using pyspark map and reduce, create a new RDD named bernoulli_sample_mean_rdd that contains the sampling distribution of the means of the samples contained in bernoulli_sample_rdd.  Create a histogram from bernoulli_sample_mean_rdd to prove that the resulting distribution follows the principals of the CLT."
   ]
  },
  {
   "cell_type": "code",
   "execution_count": 18,
   "metadata": {},
   "outputs": [],
   "source": [
    "# your code here\n"
   ]
  },
  {
   "cell_type": "markdown",
   "metadata": {},
   "source": [
    "##### Grading Feedback Cell"
   ]
  },
  {
   "cell_type": "markdown",
   "metadata": {},
   "source": [
    "# Question 4 Python Map (20 pts): \n",
    "The code below is copied from the IST-718 Numpy Tutorial Student Version notebook.  It turns out that python has built in map and reduce functions.  You shall answer this question just using just the python map function.  Start out by reading the online python documentation for map.  Then modify the for and while loops below to use a python map function instead.  The plots shall be printed as a result of printing the return value from the python map function. You can create one or more functions which are called by the map function.  You may use lambda functions or create named functions.  Just to reiterate, we are not using the spark map function in this question; but rather, we are using the python map function. This question purposely asks you to learn something new about python on your own.  As data scientists, you need to be able to learn new things on your own by reading tech manuals."
   ]
  },
  {
   "cell_type": "code",
   "execution_count": 19,
   "metadata": {
    "scrolled": true
   },
   "outputs": [
    {
     "data": {
      "image/png": "[encoded data removed]",
      "text/plain": [
       "<Figure size 432x288 with 1 Axes>"
      ]
     },
     "metadata": {
      "needs_background": "light"
     },
     "output_type": "display_data"
    },
    {
     "data": {
      "image/png": "[encoded data removed]",
      "text/plain": [
       "<Figure size 432x288 with 1 Axes>"
      ]
     },
     "metadata": {
      "needs_background": "light"
     },
     "output_type": "display_data"
    },
    {
     "data": {
      "image/png": "[encoded data removed]",
      "text/plain": [
       "<Figure size 432x288 with 1 Axes>"
      ]
     },
     "metadata": {
      "needs_background": "light"
     },
     "output_type": "display_data"
    },
    {
     "data": {
      "image/png": "[encoded data removed]",
      "text/plain": [
       "<Figure size 432x288 with 1 Axes>"
      ]
     },
     "metadata": {
      "needs_background": "light"
     },
     "output_type": "display_data"
    },
    {
     "data": {
      "image/png": "[encoded data removed]",
      "text/plain": [
       "<Figure size 432x288 with 1 Axes>"
      ]
     },
     "metadata": {
      "needs_background": "light"
     },
     "output_type": "display_data"
    },
    {
     "data": {
      "image/png": "[encoded data removed]",
      "text/plain": [
       "<Figure size 432x288 with 1 Axes>"
      ]
     },
     "metadata": {
      "needs_background": "light"
     },
     "output_type": "display_data"
    },
    {
     "data": {
      "image/png": "[encoded data removed]",
      "text/plain": [
       "<Figure size 432x288 with 1 Axes>"
      ]
     },
     "metadata": {
      "needs_background": "light"
     },
     "output_type": "display_data"
    }
   ],
   "source": [
    "# Code from in class notebook\n",
    "\n",
    "import numpy as np\n",
    "import matplotlib.pyplot as plt\n",
    "%matplotlib inline \n",
    "\n",
    "# create 10,000 binomial data points\n",
    "binomial_dat = np.random.binomial(1, 0.5, 10000)\n",
    "# print(binomial_dat[:10])\n",
    "\n",
    "# plot the binomial data as a histogram\n",
    "_, _, _ = plt.hist(binomial_dat)\n",
    "\n",
    "#plt.title(\"Binomial Histogram\")\n",
    "#plt.xlabel(\"Outcome\")\n",
    "# plt.ylabel(\"Frequency\")\n",
    "\n",
    "# define the number of samples\n",
    "num_samples = 10000\n",
    "\n",
    "# Sample the binomial data with various numbers of observations per sample\n",
    "num_obs_per_samp = [10, 15, 20, 25, 30, 40]\n",
    "\n",
    "# create a numpy array to store the sampling distribution of means\n",
    "sample_ave = np.zeros(num_samples)\n",
    "\n",
    "# Replace the following for and while loops with a python map function and print call\n",
    "# example: result = map(...)\n",
    "#          print(result)\n",
    "# Start Student Modified Code Area\n",
    "for num_obs in num_obs_per_samp:\n",
    "    i = 0\n",
    "    while i < num_samples:\n",
    "        # Draw num_samples with replacement from the binomial distributionl. Each sample\n",
    "        # has num_obs_per_samp observations per sample.  Take the mean of each sample.\n",
    "        sample_ave[i] = np.mean(np.random.choice(binomial_dat, num_obs))\n",
    "        i = i + 1\n",
    "        \n",
    "    plt.figure()\n",
    "    plt.hist(sample_ave, bins=15)\n",
    "    plt.title(\"Distribution of Binomial Sample Means\\nNum Samples = {}, Num Obs Per Sample = {}\".format(num_samples, num_obs))\n",
    "    plt.xlabel(\"Sample Averages\")\n",
    "    plt.ylabel(\"Frequency\")\n",
    "# End Student Modified Code Area"
   ]
  },
  {
   "cell_type": "markdown",
   "metadata": {},
   "source": [
    "##### Grading Feedback Cell"
   ]
  },
  {
   "cell_type": "markdown",
   "metadata": {},
   "source": [
    "# Part 2: Spark Dataframes\n",
    "Part 2 uses the dataset from homework 1 to gain experience in using spark dataframes."
   ]
  },
  {
   "cell_type": "markdown",
   "metadata": {},
   "source": [
    "# Question 5: Gapminder Data From Homework 1 Revisited (10 pts)\n",
    "Starting with pop_df, mort_df, life_exp_df, and fert_df above, create new data frames pop_df_1, mort_df_1, life_exp_df_1, and fert_df_1.  Just like homework 1, rename the column with the country names as \"Country\".  Print the resulting shape of each dataframe along with a message indicating the specific dataframe name."
   ]
  },
  {
   "cell_type": "code",
   "execution_count": 20,
   "metadata": {},
   "outputs": [],
   "source": [
    "# your code here\n"
   ]
  },
  {
   "cell_type": "code",
   "execution_count": null,
   "metadata": {},
   "outputs": [],
   "source": [
    "# grading cell do not modify\n",
    "pop_df_1_pd = pop_df_1.toPandas()\n",
    "display(pop_df_1_pd.head())\n",
    "print(pop_df_1_pd.shape)\n",
    "\n",
    "mort_df_1_pd = mort_df_1.toPandas()\n",
    "display(mort_df_1_pd.head())\n",
    "print(mort_df_1_pd.shape)\n",
    "\n",
    "life_exp_df_1_pd = life_exp_df_1.toPandas()\n",
    "display(life_exp_df_1_pd.head())\n",
    "print(life_exp_df_1_pd.shape)\n",
    "\n",
    "fert_df_1_pd = fert_df_1.toPandas()\n",
    "display(fert_df_1_pd)\n",
    "print(fert_df_1_pd.shape)"
   ]
  },
  {
   "cell_type": "markdown",
   "metadata": {},
   "source": [
    "##### Grading Feedback Cell"
   ]
  },
  {
   "cell_type": "markdown",
   "metadata": {},
   "source": [
    "# Question 6 (10 pts): \n",
    "Join all 4 dataframes together such that the country, year, population, mortality, life expectancy, and fertility columns are collected together in the same dataframe. The join operation should not throw away any data. Name the new dataframe concat_df. Next, delete all rows where the data values (values other than country and year) are all NaN values. Only drop the row if ALL the data values are NaN."
   ]
  },
  {
   "cell_type": "code",
   "execution_count": 21,
   "metadata": {},
   "outputs": [],
   "source": [
    "# your code here\n"
   ]
  },
  {
   "cell_type": "code",
   "execution_count": null,
   "metadata": {},
   "outputs": [],
   "source": [
    "# grading cell do not modify\n",
    "concat_pd_df = concat_df.toPandas()\n",
    "display(concat_pd_df.head())\n",
    "print(concat_pd_df.shape)"
   ]
  },
  {
   "cell_type": "markdown",
   "metadata": {},
   "source": [
    "##### Grading Feedback Cell"
   ]
  },
  {
   "cell_type": "markdown",
   "metadata": {},
   "source": [
    "# Question 7 (10 pts):\n",
    "Examine if there was a long-life-in-a-small-family and short-life-in-a-large-family dichotomy in the data. Create a scatter plot of life expectancy versus fertiltiy for 1962 for Africa, Asia, Europe, and the Americas. Use color to denote continent and point size to denote population size. Do you see a dichotomy?  Explain your conclusions by supporting your conclusions with observations from the data."
   ]
  },
  {
   "cell_type": "code",
   "execution_count": 22,
   "metadata": {},
   "outputs": [],
   "source": [
    "# your code here\n"
   ]
  },
  {
   "cell_type": "markdown",
   "metadata": {},
   "source": [
    "##### Grading Feedback Cell"
   ]
  },
  {
   "cell_type": "markdown",
   "metadata": {},
   "source": [
    "Your explanation here: "
   ]
  },
  {
   "cell_type": "markdown",
   "metadata": {},
   "source": [
    "##### Grading Feedback Cell"
   ]
  },
  {
   "cell_type": "markdown",
   "metadata": {},
   "source": [
    "# Question 8 (10 pts):\n",
    "Learn about OECD and OPEC countries. OECD member countries can be found [here](https://www.oecd.org/about/document/list-oecd-member-countries.htm).  OPEC member countries can be found [here](https://www.opec.org/opec_web/en/about_us/25.htm).  Create a new dataframe named concat_df_oecd_opec.  Add a new column to concat_df_oecd_opec containing a logical vector that tells if a country is OECD and OPEC respectively. Create a new spark summary dataframe named totals_df that contains 1 row and 2 columns. Populate totals_df columns with the count of OPEC and OECD countries from concat_df_oecd_opec.  Name the columns in totals_df OPEC_total and OECD_total.  Make the same plot as in question 6 above, but this time use color to annotate the OECD countries and OPEC countries. For countries that are not part of these two organization annotate if they are from Africa, Asia, or the Americas.  Do you see a long-life-in-a-small-family and short-life-in-a-large-family dichotomy in the data.  Explain your conclusions by supporting your conclusions with observations from the data.  "
   ]
  },
  {
   "cell_type": "code",
   "execution_count": 23,
   "metadata": {},
   "outputs": [],
   "source": [
    "# your code here"
   ]
  },
  {
   "cell_type": "markdown",
   "metadata": {},
   "source": [
    "##### Grading Feedback Cell"
   ]
  },
  {
   "cell_type": "markdown",
   "metadata": {},
   "source": [
    "Your explanation here: "
   ]
  },
  {
   "cell_type": "code",
   "execution_count": null,
   "metadata": {},
   "outputs": [],
   "source": [
    "# grading cell - do not modify\n",
    "concat_df_oecd_opec_pd = concat_df_oecd_opec.toPandas()\n",
    "display(concat_df_oecd_opec_pd.head())\n",
    "print(concat_df_oecd_opec_pd.shape)\n",
    "\n",
    "display(totals_df.toPandas())"
   ]
  },
  {
   "cell_type": "markdown",
   "metadata": {},
   "source": [
    "##### Grading Feedback Cell"
   ]
  }
 ],
 "metadata": {
  "celltoolbar": "Edit Metadata",
  "kernelspec": {
   "display_name": "Python 3",
   "language": "python",
   "name": "python3"
  },
  "language_info": {
   "codemirror_mode": {
    "name": "ipython",
    "version": 3
   },
   "file_extension": ".py",
   "mimetype": "text/x-python",
   "name": "python",
   "nbconvert_exporter": "python",
   "pygments_lexer": "ipython3",
   "version": "3.8.5"
  }
 },
 "nbformat": 4,
 "nbformat_minor": 4
}
